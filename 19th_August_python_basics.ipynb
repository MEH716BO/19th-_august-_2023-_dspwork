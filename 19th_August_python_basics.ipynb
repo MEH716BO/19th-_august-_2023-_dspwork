{
 "cells": [
  {
   "cell_type": "markdown",
   "id": "a71456d4-3041-4483-a7af-b7666d51ce6a",
   "metadata": {},
   "source": [
    "                       19TH AUGUST ASSIGNMENT"
   ]
  },
  {
   "cell_type": "markdown",
   "id": "26f45ada-a7cc-4119-ab20-b3a0f7964ea6",
   "metadata": {},
   "source": [
    "TOPIC: Python Basics Variable"
   ]
  },
  {
   "cell_type": "code",
   "execution_count": 23,
   "id": "16c691c0-ad1c-4b89-8ac3-d4f99f63d04e",
   "metadata": {},
   "outputs": [
    {
     "data": {
      "text/plain": [
       "'1 .Declare two variables, `x` and `y`, and assign them integer values. Swap the\\nvalues of these variables without using any temporary variable.'"
      ]
     },
     "execution_count": 23,
     "metadata": {},
     "output_type": "execute_result"
    }
   ],
   "source": [
    "'''1 .Declare two variables, `x` and `y`, and assign them integer values. Swap the\n",
    "values of these variables without using any temporary variable.'''"
   ]
  },
  {
   "cell_type": "code",
   "execution_count": 21,
   "id": "4c3c3787-384c-4bbd-aaa5-5e5697c71e64",
   "metadata": {},
   "outputs": [],
   "source": [
    "# 1. Swap two variables without using a temporary variable\n"
   ]
  },
  {
   "cell_type": "code",
   "execution_count": 12,
   "id": "7ec44400-9f94-4865-9db9-cab97a701f31",
   "metadata": {},
   "outputs": [],
   "source": [
    "x=5"
   ]
  },
  {
   "cell_type": "code",
   "execution_count": 13,
   "id": "76f42751-1293-40fb-8f77-02e386b4fa66",
   "metadata": {},
   "outputs": [],
   "source": [
    "y=10"
   ]
  },
  {
   "cell_type": "code",
   "execution_count": 14,
   "id": "88b57970-a9e0-4da1-b91f-207288d48643",
   "metadata": {},
   "outputs": [],
   "source": [
    "x=x+y"
   ]
  },
  {
   "cell_type": "code",
   "execution_count": 15,
   "id": "a6d38e27-7990-42a3-8ee9-80e9f51e5605",
   "metadata": {},
   "outputs": [],
   "source": [
    "y=x-y"
   ]
  },
  {
   "cell_type": "code",
   "execution_count": 16,
   "id": "4e9431ec-b5d2-4de8-9f66-0620a98ac118",
   "metadata": {},
   "outputs": [],
   "source": [
    "x=x-y"
   ]
  },
  {
   "cell_type": "code",
   "execution_count": 19,
   "id": "dfd584ae-a8fc-4c91-9df1-8c4e261cb114",
   "metadata": {},
   "outputs": [
    {
     "data": {
      "text/plain": [
       "'After swapping:'"
      ]
     },
     "execution_count": 19,
     "metadata": {},
     "output_type": "execute_result"
    }
   ],
   "source": [
    "(\"After swapping:\")"
   ]
  },
  {
   "cell_type": "code",
   "execution_count": 18,
   "id": "b3ae1226-d545-4bf7-93e0-e54635997928",
   "metadata": {},
   "outputs": [
    {
     "data": {
      "text/plain": [
       "('x =', 10)"
      ]
     },
     "execution_count": 18,
     "metadata": {},
     "output_type": "execute_result"
    }
   ],
   "source": [
    "(\"x =\", x)"
   ]
  },
  {
   "cell_type": "code",
   "execution_count": 20,
   "id": "ec7cc31b-a1d4-4cf0-88e8-10f2de52a125",
   "metadata": {},
   "outputs": [
    {
     "data": {
      "text/plain": [
       "('y =', 5)"
      ]
     },
     "execution_count": 20,
     "metadata": {},
     "output_type": "execute_result"
    }
   ],
   "source": [
    "(\"y =\", y)"
   ]
  },
  {
   "cell_type": "code",
   "execution_count": 28,
   "id": "9426496c-8f2a-406d-b9ae-ff1b30bc2e82",
   "metadata": {},
   "outputs": [
    {
     "data": {
      "text/plain": [
       "\"'' 2. Create a program that calculates the area of a rectangle. Take the length and\\nwidth as inputs from the user and store them in variables. Calculate and\\ndisplay the area. \""
      ]
     },
     "execution_count": 28,
     "metadata": {},
     "output_type": "execute_result"
    }
   ],
   "source": [
    "''''' 2. Create a program that calculates the area of a rectangle. Take the length and\n",
    "width as inputs from the user and store them in variables. Calculate and\n",
    "display the area. '''''"
   ]
  },
  {
   "cell_type": "code",
   "execution_count": 29,
   "id": "5789e59a-2772-408b-a64b-6d919b2217da",
   "metadata": {},
   "outputs": [],
   "source": [
    "# Taking user inputs for length and width"
   ]
  },
  {
   "cell_type": "code",
   "execution_count": 30,
   "id": "e44d399c-2d3f-4dcd-87a6-c0c0e3c8a919",
   "metadata": {},
   "outputs": [
    {
     "name": "stdin",
     "output_type": "stream",
     "text": [
      "Enter the length of the rectangle:  10\n",
      "Enter the width of the rectangle:  20\n"
     ]
    }
   ],
   "source": [
    "length = float(input(\"Enter the length of the rectangle: \"))\n",
    "width = float(input(\"Enter the width of the rectangle: \"))\n"
   ]
  },
  {
   "cell_type": "code",
   "execution_count": 31,
   "id": "e606656d-f37e-44dc-b97c-2e546a463812",
   "metadata": {},
   "outputs": [],
   "source": [
    "# Calculating the area of the rectangle\n",
    "area = length * width"
   ]
  },
  {
   "cell_type": "code",
   "execution_count": 33,
   "id": "0e43639d-f97e-49cf-bd7e-8a53e39248e7",
   "metadata": {},
   "outputs": [
    {
     "data": {
      "text/plain": [
       "('The area of the rectangle is:', 200.0)"
      ]
     },
     "execution_count": 33,
     "metadata": {},
     "output_type": "execute_result"
    }
   ],
   "source": [
    "# Displaying the calculated area\n",
    "(\"The area of the rectangle is:\", area)"
   ]
  },
  {
   "cell_type": "code",
   "execution_count": 2,
   "id": "333eb05c-50a7-4890-a031-8dfe3386db1d",
   "metadata": {},
   "outputs": [
    {
     "data": {
      "text/plain": [
       "'3. Write a Python program that converts temperatures from Celsius to\\nFahrenheit. Take the temperature in Celsius as input, store it in a variable,\\nconvert it to Fahrenheit, and display the result.'"
      ]
     },
     "execution_count": 2,
     "metadata": {},
     "output_type": "execute_result"
    }
   ],
   "source": [
    "'''3. Write a Python program that converts temperatures from Celsius to\n",
    "Fahrenheit. Take the temperature in Celsius as input, store it in a variable,\n",
    "convert it to Fahrenheit, and display the result.'''"
   ]
  },
  {
   "cell_type": "code",
   "execution_count": 3,
   "id": "85df6962-ec86-42e5-82aa-93b8430ed459",
   "metadata": {},
   "outputs": [
    {
     "name": "stdin",
     "output_type": "stream",
     "text": [
      "Enter the temperature in Celsius:  35\n"
     ]
    }
   ],
   "source": [
    "# Taking user input for temperature in Celsius\n",
    "celsius = float(input(\"Enter the temperature in Celsius: \"))\n"
   ]
  },
  {
   "cell_type": "code",
   "execution_count": 4,
   "id": "14cc3b35-55cb-4e79-9f78-5c16ec7c7ea2",
   "metadata": {},
   "outputs": [],
   "source": [
    "# Converting Celsius to Fahrenheit\n",
    "fahrenheit = (celsius * 9/5) + 32"
   ]
  },
  {
   "cell_type": "code",
   "execution_count": 5,
   "id": "f0ea1622-4f57-4c05-a472-1d833f90406a",
   "metadata": {},
   "outputs": [
    {
     "name": "stdout",
     "output_type": "stream",
     "text": [
      "Temperature in Fahrenheit: 95.0\n"
     ]
    }
   ],
   "source": [
    "# Displaying the converted temperature in Fahrenheit\n",
    "print(\"Temperature in Fahrenheit:\", fahrenheit)"
   ]
  },
  {
   "cell_type": "markdown",
   "id": "ea1dae99-4c8e-41e1-ba03-63c7f30be679",
   "metadata": {},
   "source": [
    "TOPIC: String Based Questions"
   ]
  },
  {
   "cell_type": "code",
   "execution_count": 8,
   "id": "002f0abf-4870-45c6-a9aa-1af31f2ea06b",
   "metadata": {},
   "outputs": [
    {
     "data": {
      "text/plain": [
       "'1. Write a Python program that takes a string as input and prints the length of\\nthe string.'"
      ]
     },
     "execution_count": 8,
     "metadata": {},
     "output_type": "execute_result"
    }
   ],
   "source": [
    "'''1. Write a Python program that takes a string as input and prints the length of\n",
    "the string.'''"
   ]
  },
  {
   "cell_type": "code",
   "execution_count": 11,
   "id": "b03c7e8c-86f2-4187-a3c7-1a794239a349",
   "metadata": {},
   "outputs": [
    {
     "name": "stdin",
     "output_type": "stream",
     "text": [
      "Enter a string:  \"vfghnghbg\"\n"
     ]
    }
   ],
   "source": [
    "# Taking user input for a string\n",
    "user_input = input(\"Enter a string: \")"
   ]
  },
  {
   "cell_type": "code",
   "execution_count": 12,
   "id": "7ed90b5b-2490-4ad9-b71b-31656693d8d1",
   "metadata": {},
   "outputs": [],
   "source": [
    "# Calculating the length of the string\n",
    "string_length = len(user_input)"
   ]
  },
  {
   "cell_type": "code",
   "execution_count": 14,
   "id": "2acc3ac6-4716-4b96-bf16-1aec3131f1f6",
   "metadata": {},
   "outputs": [
    {
     "data": {
      "text/plain": [
       "('The length of the string is:', 11)"
      ]
     },
     "execution_count": 14,
     "metadata": {},
     "output_type": "execute_result"
    }
   ],
   "source": [
    "# Displaying the length of the string\n",
    "(\"The length of the string is:\", string_length)"
   ]
  },
  {
   "cell_type": "code",
   "execution_count": 16,
   "id": "9ceda027-1068-432d-b7ef-ba21358c402a",
   "metadata": {},
   "outputs": [
    {
     "data": {
      "text/plain": [
       "'2.Create a program that takes a sentence from the user and counts the number\\nof vowels (a, e, i, o, u) in the string.'"
      ]
     },
     "execution_count": 16,
     "metadata": {},
     "output_type": "execute_result"
    }
   ],
   "source": [
    "'''2.Create a program that takes a sentence from the user and counts the number\n",
    "of vowels (a, e, i, o, u) in the string.'''"
   ]
  },
  {
   "cell_type": "code",
   "execution_count": 17,
   "id": "3918e0c6-f723-4943-a7dc-f5d73a01cb22",
   "metadata": {},
   "outputs": [
    {
     "name": "stdin",
     "output_type": "stream",
     "text": [
      "Enter a sentence:  my name is mehboob mansuri and now i am learning python language for data science course\n"
     ]
    }
   ],
   "source": [
    "# Taking user input for a sentence\n",
    "sentence = input(\"Enter a sentence: \")"
   ]
  },
  {
   "cell_type": "code",
   "execution_count": 18,
   "id": "02fca0c5-850c-4adb-a65b-f5307dbf4870",
   "metadata": {},
   "outputs": [
    {
     "data": {
      "text/plain": [
       "'3. Given a string, reverse the order of characters using string slicing and print\\nthe reversed string.'"
      ]
     },
     "execution_count": 18,
     "metadata": {},
     "output_type": "execute_result"
    }
   ],
   "source": [
    "'''3. Given a string, reverse the order of characters using string slicing and print\n",
    "the reversed string.'''"
   ]
  },
  {
   "cell_type": "code",
   "execution_count": 19,
   "id": "55b121ef-9a56-4941-99b2-d27cb3e8c005",
   "metadata": {},
   "outputs": [
    {
     "name": "stdin",
     "output_type": "stream",
     "text": [
      "Enter a string:  \"mehboobmansuri\"\n"
     ]
    }
   ],
   "source": [
    "# Taking user input for a string\n",
    "original_string = input(\"Enter a string: \")\n"
   ]
  },
  {
   "cell_type": "code",
   "execution_count": 20,
   "id": "6c677126-2222-4329-b162-67aa06c19727",
   "metadata": {},
   "outputs": [],
   "source": [
    "# Reversing the string using string slicing\n",
    "reversed_string = original_string[::-1]"
   ]
  },
  {
   "cell_type": "code",
   "execution_count": 21,
   "id": "9b8c779c-d3cd-4515-be5d-5306cfe00143",
   "metadata": {},
   "outputs": [
    {
     "name": "stdout",
     "output_type": "stream",
     "text": [
      "Reversed string: \"irusnamboobhem\"\n"
     ]
    }
   ],
   "source": [
    "# Displaying the reversed string\n",
    "print(\"Reversed string:\", reversed_string)\n"
   ]
  },
  {
   "cell_type": "code",
   "execution_count": 23,
   "id": "60c8206c-c7fa-43bf-bf5a-26edfa1584e9",
   "metadata": {},
   "outputs": [
    {
     "data": {
      "text/plain": [
       "'4. Write a program that takes a string as input and checks if it is a palindrome\\n(reads the same forwards and backwards).'"
      ]
     },
     "execution_count": 23,
     "metadata": {},
     "output_type": "execute_result"
    }
   ],
   "source": [
    "'''4. Write a program that takes a string as input and checks if it is a palindrome\n",
    "(reads the same forwards and backwards).'''"
   ]
  },
  {
   "cell_type": "code",
   "execution_count": 25,
   "id": "cc941a63-9f3b-48ec-a777-984ec8244619",
   "metadata": {},
   "outputs": [
    {
     "name": "stdin",
     "output_type": "stream",
     "text": [
      "Enter a string:  \"manmsurim\"\n"
     ]
    }
   ],
   "source": [
    "# Taking user input for a string\n",
    "input_string = input(\"Enter a string: \")\n"
   ]
  },
  {
   "cell_type": "code",
   "execution_count": 27,
   "id": "85271792-c92a-4a0d-b6e4-8deea0f17f84",
   "metadata": {},
   "outputs": [],
   "source": [
    "# Reversing the string using string slicing\n",
    "reversed_string = input_string[::-1]\n"
   ]
  },
  {
   "cell_type": "code",
   "execution_count": 28,
   "id": "08b4aa3b-d75c-45dd-9779-cc298f10867f",
   "metadata": {},
   "outputs": [],
   "source": [
    "# Checking if the input string is equal to its reversed version\n",
    "if input_string == reversed_string:\n",
    "    print(\"The entered string is a palindrome.\")"
   ]
  },
  {
   "cell_type": "code",
   "execution_count": 32,
   "id": "fa5ef478-106a-43b5-b4eb-dbca069a1df1",
   "metadata": {},
   "outputs": [
    {
     "name": "stdout",
     "output_type": "stream",
     "text": [
      "The entered string is not a palindrome.\n"
     ]
    }
   ],
   "source": [
    "\n",
    "    print(\"The entered string is not a palindrome.\")"
   ]
  },
  {
   "cell_type": "code",
   "execution_count": 33,
   "id": "e9acb0ba-3209-4d50-b025-2ff1de87c5fc",
   "metadata": {},
   "outputs": [
    {
     "data": {
      "text/plain": [
       "'5. Create a program that takes a string as input and removes all the spaces from\\nit. Print the modified string without spaces.'"
      ]
     },
     "execution_count": 33,
     "metadata": {},
     "output_type": "execute_result"
    }
   ],
   "source": [
    "'''5. Create a program that takes a string as input and removes all the spaces from\n",
    "it. Print the modified string without spaces.'''"
   ]
  },
  {
   "cell_type": "code",
   "execution_count": 38,
   "id": "f6176f0c-52ee-464a-9c0f-ec1539dde942",
   "metadata": {},
   "outputs": [
    {
     "name": "stdin",
     "output_type": "stream",
     "text": [
      "Enter a string:  4454545 nuf jjd4 3r4g\n"
     ]
    }
   ],
   "source": [
    "# Taking user input for a string\n",
    "input_string = input(\"Enter a string: \")"
   ]
  },
  {
   "cell_type": "code",
   "execution_count": 39,
   "id": "67887d8b-cc9c-49d8-94be-d429b6235c32",
   "metadata": {},
   "outputs": [],
   "source": [
    "# Removing spaces from the input string\n",
    "modified_string = input_string.replace(\" \", \"\")\n"
   ]
  },
  {
   "cell_type": "code",
   "execution_count": 40,
   "id": "818f6fd9-8afc-48f5-89e7-e95371ec6b50",
   "metadata": {},
   "outputs": [
    {
     "name": "stdout",
     "output_type": "stream",
     "text": [
      "Modified string: 4454545nufjjd43r4g\n"
     ]
    }
   ],
   "source": [
    "# Displaying the modified string without spaces\n",
    "print(\"Modified string:\", modified_string)\n"
   ]
  },
  {
   "cell_type": "code",
   "execution_count": null,
   "id": "56616113-1028-4a9e-ad38-1c54b69772e2",
   "metadata": {},
   "outputs": [],
   "source": []
  }
 ],
 "metadata": {
  "kernelspec": {
   "display_name": "Python 3 (ipykernel)",
   "language": "python",
   "name": "python3"
  },
  "language_info": {
   "codemirror_mode": {
    "name": "ipython",
    "version": 3
   },
   "file_extension": ".py",
   "mimetype": "text/x-python",
   "name": "python",
   "nbconvert_exporter": "python",
   "pygments_lexer": "ipython3",
   "version": "3.10.8"
  }
 },
 "nbformat": 4,
 "nbformat_minor": 5
}
